{
 "cells": [
  {
   "cell_type": "markdown",
   "metadata": {
    "collapsed": true
   },
   "source": [
    "## 搭建一个简单的问答系统 （Building a Simple QA System）"
   ]
  },
  {
   "cell_type": "markdown",
   "metadata": {},
   "source": [
    "#### 检索式的问答系统\n",
    "问答系统所需要的数据已经提供，对于每一个问题都可以找得到相应的答案，所以可以理解为每一个样本数据是 ``<问题、答案>``。 那系统的核心是当用户输入一个问题的时候，首先要找到跟这个问题最相近的已经存储在库里的问题，然后直接返回相应的答案即可（但实际上也可以抽取其中的实体或者关键词)。 举一个简单的例子：\n",
    "\n",
    "假设我们的库里面已有存在以下几个<问题,答案>：\n",
    "- <\"贪心学院主要做什么方面的业务？”， “他们主要做人工智能方面的教育”>\n",
    "- <“国内有哪些做人工智能教育的公司？”， “贪心学院”>\n",
    "- <\"人工智能和机器学习的关系什么？\", \"其实机器学习是人工智能的一个范畴，很多人工智能的应用要基于机器学习的技术\">\n",
    "- <\"人工智能最核心的语言是什么？\"， ”Python“>\n",
    "- .....\n",
    "\n",
    "假设一个用户往系统中输入了问题 “贪心学院是做什么的？”， 那这时候系统先去匹配最相近的“已经存在库里的”问题。 那在这里很显然是 “贪心学院是做什么的”和“贪心学院主要做什么方面的业务？”是最相近的。 所以当我们定位到这个问题之后，直接返回它的答案 “他们主要做人工智能方面的教育”就可以了。 所以这里的核心问题可以归结为计算两个问句（query）之间的相似度。"
   ]
  },
  {
   "cell_type": "markdown",
   "metadata": {},
   "source": [
    "#### 项目中涉及到的任务描述\n",
    "问答系统看似简单，但其中涉及到的内容比较多。 在这里先做一个简单的解释，总体来讲，我们即将要搭建的模块包括：\n",
    "\n",
    "- 文本的读取： 需要从相应的文件里读取```(问题，答案)```\n",
    "- 文本预处理： 清洗文本很重要，需要涉及到```停用词过滤```等工作\n",
    "- 文本的表示： 如果表示一个句子是非常核心的问题，这里会涉及到```tf-idf```, ```Glove```以及```BERT Embedding```\n",
    "- 文本相似度匹配： 在基于检索式系统中一个核心的部分是计算文本之间的```相似度```，从而选择相似度最高的问题然后返回这些问题的答案\n",
    "- 倒排表： 为了加速搜索速度，我们需要设计```倒排表```来存储每一个词与出现的文本\n",
    "- 词义匹配：直接使用倒排表会忽略到一些意思上相近但不完全一样的单词，我们需要做这部分的处理。我们需要提前构建好```相似的单词```然后搜索阶段使用\n",
    "- 拼写纠错：我们不能保证用户输入的准确，所以第一步需要做用户输入检查，如果发现用户拼错了，我们需要及时在后台改正，然后按照修改后的在库里面搜索\n",
    "- 文档的排序： 最后返回结果的排序根据文档之间```余弦相似度```有关，同时也跟倒排表中匹配的单词有关\n"
   ]
  },
  {
   "cell_type": "markdown",
   "metadata": {},
   "source": [
    "#### 项目中需要的数据：\n",
    "1. ```dev-v2.0.json```: 这个数据包含了问题和答案的pair， 但是以JSON格式存在，需要编写parser来提取出里面的问题和答案。 \n",
    "2. ```glove.6B```: 这个文件需要从网上下载，下载地址为：https://nlp.stanford.edu/projects/glove/， 请使用d=200的词向量\n",
    "3. ```spell-errors.txt``` 这个文件主要用来编写拼写纠错模块。 文件中第一列为正确的单词，之后列出来的单词都是常见的错误写法。 但这里需要注意的一点是我们没有给出他们之间的概率，也就是p(错误|正确），所以我们可以认为每一种类型的错误都是```同等概率```\n",
    "4. ```vocab.txt``` 这里列了几万个英文常见的单词，可以用这个词库来验证是否有些单词被拼错\n",
    "5. ```testdata.txt``` 这里搜集了一些测试数据，可以用来测试自己的spell corrector。这个文件只是用来测试自己的程序。"
   ]
  },
  {
   "cell_type": "markdown",
   "metadata": {},
   "source": [
    "在本次项目中，你将会用到以下几个工具：\n",
    "- ```sklearn```。具体安装请见：http://scikit-learn.org/stable/install.html  sklearn包含了各类机器学习算法和数据处理工具，包括本项目需要使用的词袋模型，均可以在sklearn工具包中找得到。 \n",
    "- ```jieba```，用来做分词。具体使用方法请见 https://github.com/fxsjy/jieba\n",
    "- ```bert embedding```: https://github.com/imgarylai/bert-embedding\n",
    "- ```nltk```：https://www.nltk.org/index.html"
   ]
  },
  {
   "cell_type": "markdown",
   "metadata": {},
   "source": [
    "### 第一部分：对于训练数据的处理：读取文件和预处理"
   ]
  },
  {
   "cell_type": "markdown",
   "metadata": {},
   "source": [
    "- ```文本的读取```： 需要从文本中读取数据，此处需要读取的文件是```dev-v2.0.json```，并把读取的文件存入一个列表里（list）\n",
    "- ```文本预处理```： 对于问题本身需要做一些停用词过滤等文本方面的处理\n",
    "- ```可视化分析```： 对于给定的样本数据，做一些可视化分析来更好地理解数据"
   ]
  },
  {
   "cell_type": "markdown",
   "metadata": {},
   "source": [
    "#### 1.1节： 文本的读取\n",
    "把给定的文本数据读入到```qlist```和```alist```当中，这两个分别是列表，其中```qlist```是问题的列表，```alist```是对应的答案列表"
   ]
  },
  {
   "cell_type": "code",
   "execution_count": 1,
   "metadata": {},
   "outputs": [],
   "source": [
    "import sys\n",
    "#sys.path.append('/home/ubuntu/MyFiles/.local/lib/python3.5/site-packages:/usr/local/lib/python3.5/dist-packages:/usr/lib/python3.5/site-packages:/usr/lib/python3/dist-packages')\n",
    "import json\n",
    "def read_corpus():\n",
    "    \"\"\"\n",
    "    读取给定的语料库，并把问题列表和答案列表分别写入到 qlist, alist 里面。 在此过程中，不用对字符换做任何的处理（这部分需要在 Part 2.3里处理）\n",
    "    qlist = [\"问题1\"， “问题2”， “问题3” ....]\n",
    "    alist = [\"答案1\", \"答案2\", \"答案3\" ....]\n",
    "    务必要让每一个问题和答案对应起来（下标位置一致）\n",
    "    \"\"\"\n",
    "    # TODO 需要完成的代码部分 ...\n",
    "    qlist = []\n",
    "    alist = []\n",
    "    filename = 'train-v2.0.json'\n",
    "    datas = json.load(open(filename,'r'))\n",
    "    data = datas['data']\n",
    "    for d in data:\n",
    "        paragraph = d['paragraphs']\n",
    "        for p in paragraph:\n",
    "            qas = p['qas']\n",
    "            for qa in qas:\n",
    "                #print(qa)\n",
    "                #处理is_impossible为True时answers空\n",
    "                if(not qa['is_impossible']):\n",
    "                    qlist.append(qa['question'])\n",
    "                    alist.append(qa['answers'][0]['text'])\n",
    "    #print(qlist[0])\n",
    "    #print(alist[0])\n",
    "    assert len(qlist) == len(alist)  # 确保长度一样\n",
    "    return qlist, alist\n",
    "qlist,alist = read_corpus()"
   ]
  },
  {
   "cell_type": "markdown",
   "metadata": {},
   "source": [
    "#### 1.2 理解数据（可视化分析/统计信息）\n",
    "对数据的理解是任何AI工作的第一步， 需要对数据有个比较直观的认识。在这里，简单地统计一下：\n",
    "\n",
    "- 在```qlist```出现的总单词个数\n",
    "- 按照词频画一个```histogram``` plot"
   ]
  },
  {
   "cell_type": "code",
   "execution_count": 2,
   "metadata": {},
   "outputs": [
    {
     "name": "stdout",
     "output_type": "stream",
     "text": [
      "57807\n"
     ]
    }
   ],
   "source": [
    "# TODO: 统计一下在qlist中总共出现了多少个单词？ 总共出现了多少个不同的单词(unique word)？\n",
    "#       这里需要做简单的分词，对于英文我们根据空格来分词即可，其他过滤暂不考虑（只需分词）\n",
    "words_qlist = dict()\n",
    "for q in qlist:\n",
    "    #以空格为分词，都转为小写\n",
    "    words = q.strip().split(' ')\n",
    "    for w in words:\n",
    "        if w.lower() in words_qlist:\n",
    "            words_qlist[w.lower()] += 1\n",
    "        else:\n",
    "            words_qlist[w.lower()] = 1\n",
    "word_total = len(words_qlist)\n",
    "print (word_total)"
   ]
  },
  {
   "cell_type": "code",
   "execution_count": 4,
   "metadata": {},
   "outputs": [
    {
     "data": {
      "image/png": "[encoded data removed]",
      "text/plain": [
       "<Figure size 432x288 with 1 Axes>"
      ]
     },
     "metadata": {},
     "output_type": "display_data"
    }
   ],
   "source": [
    "# TODO: 统计一下qlist中出现1次，2次，3次... 出现的单词个数， 然后画一个plot. 这里的x轴是单词出现的次数（1，2，3，..)， y轴是单词个数。\n",
    "#       从左到右分别是 出现1次的单词数，出现2次的单词数，出现3次的单词数..\n",
    "import matplotlib.pyplot as plt\n",
    "import numpy as np\n",
    "#counts：key出现N次，value：出现N次词有多少\n",
    "counts = dict()\n",
    "for w,c in words_qlist.items():\n",
    "    if c in counts:\n",
    "        counts[c] += 1\n",
    "    else:\n",
    "        counts[c] = 1\n",
    "#print(counts)\n",
    "#以histogram画图\n",
    "fig,ax = plt.subplots()\n",
    "ax.hist(counts.values(),bins = np.arange(0,250,25),histtype='step',alpha=0.6,label=\"counts\")\n",
    "ax.legend()\n",
    "ax.set_xlim(0,250)\n",
    "ax.set_yticks(np.arange(0,300,20))\n",
    "plt.show()"
   ]
  },
  {
   "cell_type": "code",
   "execution_count": null,
   "metadata": {},
   "outputs": [],
   "source": [
    "# TODO： 从上面的图中能观察到什么样的现象？ 这样的一个图的形状跟一个非常著名的函数形状很类似，能所出此定理吗？ \n",
    "#       hint: [XXX]'s law\n",
    "# \n",
    "# "
   ]
  },
  {
   "cell_type": "markdown",
   "metadata": {
    "collapsed": true
   },
   "source": [
    "#### 1.3 文本预处理\n",
    "此部分需要做文本方面的处理。 以下是可以用到的一些方法：\n",
    "\n",
    "- 1. 停用词过滤 （去网上搜一下 \"english stop words list\"，会出现很多包含停用词库的网页，或者直接使用NLTK自带的）   \n",
    "- 2. 转换成lower_case： 这是一个基本的操作   \n",
    "- 3. 去掉一些无用的符号： 比如连续的感叹号！！！， 或者一些奇怪的单词。\n",
    "- 4. 去掉出现频率很低的词：比如出现次数少于10,20.... （想一下如何选择阈值）\n",
    "- 5. 对于数字的处理： 分词完只有有些单词可能就是数字比如44，415，把所有这些数字都看成是一个单词，这个新的单词我们可以定义为 \"#number\"\n",
    "- 6. lemmazation： 在这里不要使用stemming， 因为stemming的结果有可能不是valid word。\n"
   ]
  },
  {
   "cell_type": "code",
   "execution_count": 6,
   "metadata": {},
   "outputs": [],
   "source": [
    "import nltk\n",
    "from nltk.corpus import stopwords\n",
    "import codecs\n",
    "import re\n",
    "\n",
    "def tokenizer(ori_list):\n",
    "    #分词时处理标点符号\n",
    "    SYMBOLS = re.compile('[\\s;\\\"\\\",.!?\\\\/\\[\\]\\{\\}\\(\\)-]+')\n",
    "    new_list = []\n",
    "    for q in ori_list:\n",
    "        words = SYMBOLS.split(q.lower().strip())\n",
    "        new_list.append(' '.join(words))\n",
    "    return new_list\n",
    "\n",
    "def removeStopWord(ori_list):\n",
    "    new_list = []\n",
    "    #nltk中stopwords包含what等，但是在QA问题中，这算关键词，所以不看作关键词\n",
    "    restored = ['what','when','which','how','who','where']\n",
    "    english_stop_words = list(set(stopwords.words('english')))#['what','when','which','how','who','where','a','an','the'] #\n",
    "    for w in restored:\n",
    "        english_stop_words.remove(w)\n",
    "    for q in ori_list:\n",
    "        sentence = ' '.join([w for w in q.strip().split(' ') if w not in english_stop_words])\n",
    "        new_list.append(sentence)\n",
    "    return new_list\n",
    "\n",
    "def removeLowFrequence(ori_list,vocabulary,thres = 10):\n",
    "    #根据thres筛选词表，小于thres的词去掉\n",
    "    new_list = []\n",
    "    for q in ori_list:\n",
    "        sentence = ' '.join([w for w in q.strip().split(' ') if vocabulary[w] >= thres])\n",
    "        new_list.append(sentence)\n",
    "    return new_list\n",
    "\n",
    "def replaceDigits(ori_list,replace = '#number'):\n",
    "    #将数字统一替换为replace,默认#number\n",
    "    DIGITS = re.compile('\\d+')\n",
    "    new_list = []\n",
    "    for q in ori_list:\n",
    "        q = DIGITS.sub(replace,q)\n",
    "        new_list.append(q)\n",
    "    return new_list\n",
    "\n",
    "def createVocab(ori_list):\n",
    "    count = 0\n",
    "    vocab_count = dict()\n",
    "    for q in ori_list:\n",
    "        words = q.strip().split(' ')\n",
    "        count += len(words)\n",
    "        for w in words:\n",
    "            if w in vocab_count:\n",
    "                vocab_count[w] += 1\n",
    "            else:\n",
    "                vocab_count[w] = 1\n",
    "    return vocab_count,count\n",
    "def writeFile(oriList,filename):\n",
    "    with codecs.open(filename,'w','utf8') as Fout:\n",
    "        for q in oriList:\n",
    "            Fout.write(q + u'\\n')\n",
    "\n",
    "def writeVocab(vocabulary,filename):\n",
    "    sortedList = sorted(vocabulary.items(),key = lambda d:d[1])\n",
    "    with codecs.open(filename,'w','utf8') as Fout:\n",
    "        for (w,c) in sortedList:\n",
    "            Fout.write(w + u':' + str(c) + u'\\n')            \n",
    "new_list = tokenizer(qlist)\n",
    "#writeFile(qlist,'ori.txt')\n",
    "\n",
    "new_list = removeStopWord(new_list)\n",
    "#writeFile(new_list,'removeStop.txt')\n",
    "new_list = replaceDigits(new_list)\n",
    "#writeFile(new_list,'removeDigts.txt')\n",
    "vocabulary,count = createVocab(new_list)\n",
    "new_list = removeLowFrequence(new_list,vocabulary,5)\n",
    "#writeFile(new_list,'lowFrequence.txt')\n",
    "#重新统计词频\n",
    "vocab_count,count = createVocab(new_list)\n",
    "writeVocab(vocab_count,\"train.vocab\")\n",
    "qlist = new_list\n",
    "#qlist =     # 更新后的问题列表"
   ]
  },
  {
   "cell_type": "markdown",
   "metadata": {},
   "source": [
    "### 第二部分： 文本的表示\n",
    "当我们做完必要的文本处理之后就需要想办法表示文本了，这里有几种方式\n",
    "\n",
    "- 1. 使用```tf-idf vector```\n",
    "- 2. 使用embedding技术如```word2vec```, ```bert embedding```等\n",
    "\n",
    "下面我们分别提取这三个特征来做对比。 "
   ]
  },
  {
   "cell_type": "markdown",
   "metadata": {},
   "source": [
    "#### 2.1 使用tf-idf表示向量\n",
    "把```qlist```中的每一个问题的字符串转换成```tf-idf```向量, 转换之后的结果存储在```X```矩阵里。 ``X``的大小是： ``N* D``的矩阵。 这里``N``是问题的个数（样本个数），\n",
    "``D``是词典库的大小"
   ]
  },
  {
   "cell_type": "code",
   "execution_count": 7,
   "metadata": {},
   "outputs": [
    {
     "name": "stdout",
     "output_type": "stream",
     "text": [
      "10522\n",
      "[0.0477289  0.00397813 0.00640568 ... 0.         0.         0.        ]\n",
      "(86821, 10522)\n"
     ]
    }
   ],
   "source": [
    "import numpy as np\n",
    "\n",
    "def computeTF(vocab,c):\n",
    "    #计算每次词的词频\n",
    "    #vocabCount已经统计好的每词的次数\n",
    "    #c是统计好的总次数\n",
    "    TF = np.ones(len(vocab))\n",
    "    word2id = dict()\n",
    "    id2word = dict()\n",
    "    for word,fre in vocab.items():\n",
    "        TF[len(word2id)] = 1.0 * fre / c\n",
    "        id2word[len(word2id)] = word\n",
    "        word2id[word] = len(word2id)\n",
    "    return TF,word2id,id2word\n",
    "\n",
    "def computeIDF(word2id,qlist):\n",
    "    #IDF计算，没有类别，以句子为一个类\n",
    "    IDF = np.ones(len(word2id))\n",
    "    for q in qlist:\n",
    "        words = set(q.strip().split())\n",
    "        for w in words:\n",
    "            IDF[word2id[w]] += 1\n",
    "    IDF /= len(qlist)\n",
    "    IDF = -1.0 * np.log2(IDF)\n",
    "    return IDF\n",
    "\n",
    "def computeSentenceEach(sentence,tfidf,word2id):\n",
    "    #给定句子，计算句子TF-IDF\n",
    "    #tfidf是一个1*M的矩阵,M为词表大小\n",
    "    #不在词表中的词不统计\n",
    "    sentence_tfidf = np.zeros(len(word2id))\n",
    "    for w in sentence.strip().split(' '):\n",
    "        if w not in word2id:\n",
    "            continue\n",
    "        sentence_tfidf[word2id[w]] = tfidf[word2id[w]]\n",
    "    return sentence_tfidf\n",
    "\n",
    "def computeSentence(qlist,word2id,tfidf):\n",
    "    #对所有句子分别求tfidf\n",
    "    X_tfidf = np.zeros((len(qlist),len(word2id)))\n",
    "    for i,q in enumerate(qlist):\n",
    "        X_tfidf[i] = computeSentenceEach(q,tfidf,word2id)\n",
    "        #print(X_tfidf[i])\n",
    "    return X_tfidf\n",
    "\n",
    "TF,word2id,id2word = computeTF(vocab_count,count)\n",
    "print(len(word2id))\n",
    "IDF = computeIDF(word2id,qlist)\n",
    "#用TF，IDF计算最终的tf-idf\n",
    "vectorizer = np.multiply(TF,IDF)# 定义一个tf-idf的vectorizer\n",
    "#print(vectorizer)\n",
    "X_tfidf =  computeSentence(qlist,word2id,vectorizer) # 结果存放在X矩阵里\n",
    "print(X_tfidf[0])\n",
    "print(X_tfidf.shape)\n"
   ]
  },
  {
   "cell_type": "markdown",
   "metadata": {},
   "source": []
  },
  {
   "cell_type": "markdown",
   "metadata": {},
   "source": [
    "#### 2.2 使用wordvec + average pooling\n",
    "词向量方面需要下载： https://nlp.stanford.edu/projects/glove/ （请下载``glove.6B.zip``），并使用``d=200``的词向量（200维）。国外网址如果很慢，可以在百度上搜索国内服务器上的。 每个词向量获取完之后，即可以得到一个句子的向量。 我们通过``average pooling``来实现句子的向量。 "
   ]
  },
  {
   "cell_type": "code",
   "execution_count": 8,
   "metadata": {},
   "outputs": [],
   "source": [
    "from gensim.models import KeyedVectors\n",
    "from gensim.scripts.glove2word2vec import glove2word2vec\n",
    "    \n",
    "def loadEmbedding(filename):\n",
    "    #加载glove模型，转化为word2vec，再加载word2vec模型\n",
    "    word2vec_temp_file = 'word2vec_temp.txt'\n",
    "    glove2word2vec(filename,word2vec_temp_file)\n",
    "    model = KeyedVectors.load_word2vec_format(word2vec_temp_file)\n",
    "    return model\n",
    "\n",
    "def computeGloveSentenceEach(sentence,embedding):\n",
    "    #查找句子中每个词的embedding,将所有embedding进行加和求均值\n",
    "    emb = np.zeros(200)\n",
    "    words = sentence.strip().split(' ')\n",
    "    for w in words:\n",
    "        if w not in embedding:\n",
    "            #没有lookup的即为unknown\n",
    "            w = 'unknown'\n",
    "        #emb += embedding.get_vector(w)\n",
    "        emb += embedding[w]\n",
    "    return emb / len(words)\n",
    "\n",
    "def computeGloveSentence(qlist,embedding):\n",
    "    #对每一个句子进行求均值的embedding\n",
    "    X_w2v = np.zeros((len(qlist),200))\n",
    "    for i,q in enumerate(qlist):\n",
    "        X_w2v[i] = computeGloveSentenceEach(q,embedding)\n",
    "        #print(X_w2v)\n",
    "    return X_w2v\n",
    "emb  =  loadEmbedding('glove.6B.200d.txt')# 这是 D*H的矩阵，这里的D是词典库的大小， H是词向量的大小。 这里面我们给定的每个单词的词向量，\n",
    "        # 这需要从文本中读取\n",
    "    \n",
    "X_w2v =   computeGloveSentence(qlist,emb)# 初始化完emb之后就可以对每一个句子来构建句子向量了，这个过程使用average pooling来实现\n",
    "\n",
    "\n"
   ]
  },
  {
   "cell_type": "code",
   "execution_count": null,
   "metadata": {},
   "outputs": [],
   "source": [
    "# # TODO 基于Glove向量获取句子向量\n",
    "# emb  =  # 这是 D*H的矩阵，这里的D是词典库的大小， H是词向量的大小。 这里面我们给定的每个单词的词向量，\n",
    "#         # 这需要从文本中读取\n",
    "    \n",
    "# X_w2v =   # 初始化完emb之后就可以对每一个句子来构建句子向量了，这个过程使用average pooling来实现\n"
   ]
  },
  {
   "cell_type": "code",
   "execution_count": null,
   "metadata": {},
   "outputs": [],
   "source": []
  },
  {
   "cell_type": "code",
   "execution_count": null,
   "metadata": {},
   "outputs": [],
   "source": []
  },
  {
   "cell_type": "markdown",
   "metadata": {},
   "source": [
    "#### 2.3 使用BERT + average pooling\n",
    "最近流行的BERT也可以用来学出上下文相关的词向量（contex-aware embedding）， 在很多问题上得到了比较好的结果。在这里，我们不做任何的训练，而是直接使用已经训练好的BERT embedding。 具体如何训练BERT将在之后章节里体会到。 为了获取BERT-embedding，可以直接下载已经训练好的模型从而获得每一个单词的向量。可以从这里获取： https://github.com/imgarylai/bert-embedding , 请使用```bert_12_768_12```\t当然，你也可以从其他source获取也没问题，只要是合理的词向量。 "
   ]
  },
  {
   "cell_type": "code",
   "execution_count": null,
   "metadata": {},
   "outputs": [
    {
     "name": "stdout",
     "output_type": "stream",
     "text": [
      "Vocab file is not found. Downloading.\n",
      "Downloading C:\\Users\\zhangguifa\\.mxnet\\models\\wiki_multilingual_uncased-2b2514cc.zip from https://apache-mxnet.s3-accelerate.dualstack.amazonaws.com/gluon/dataset/vocab/wiki_multilingual_uncased-2b2514cc.zip...\n",
      "Downloading C:\\Users\\zhangguifa\\.mxnet\\models\\bert_12_768_12_wiki_multilingual_uncased-237f3985.zip from https://apache-mxnet.s3-accelerate.dualstack.amazonaws.com/gluon/models/bert_12_768_12_wiki_multilingual_uncased-237f3985.zip...\n"
     ]
    }
   ],
   "source": [
    "# TODO 基于BERT的句子向量计算\n",
    "from bert_embedding import BertEmbedding\n",
    "sentence_embedding = np.ones((len(qlist),768))\n",
    "#加载Bert模型，model，dataset_name,须指定\n",
    "bert_embedding = BertEmbedding(model='bert_12_768_12', dataset_name='wiki_multilingual_uncased')\n",
    "#查询所有句子的Bert  embedding\n",
    "#all_embedding = []\n",
    "#for q in qlist:\n",
    "#    all_embedding.append(bert_embedding([q],'sum'))\n",
    "all_embedding = bert_embedding(qlist,'sum')\n",
    "for i in range(len(all_embedding)):\n",
    "    #print(all_embedding[i][1])\n",
    "    sentence_embedding[i] = np.sum(all_embedding[i][1],axis = 0) / len(q.strip().split(' '))\n",
    "    if i == 0:\n",
    "        print(sentence_embedding[i])\n",
    "\n",
    "X_bert =  sentence_embedding # 每一个句子的向量结果存放在X_bert矩阵里。行数为句子的总个数，列数为一个句子embedding大小。 \n"
   ]
  },
  {
   "cell_type": "code",
   "execution_count": null,
   "metadata": {},
   "outputs": [],
   "source": [
    "# TODO 基于BERT的句子向量计算\n",
    "\n",
    "# X_bert =   # 每一个句子的向量结果存放在X_bert矩阵里。行数为句子的总个数，列数为一个句子embedding大小。 "
   ]
  },
  {
   "cell_type": "markdown",
   "metadata": {
    "collapsed": true
   },
   "source": [
    "### 第三部分： 相似度匹配以及搜索\n",
    "在这部分里，我们需要把用户每一个输入跟知识库里的每一个问题做一个相似度计算，从而得出最相似的问题。但对于这个问题，时间复杂度其实很高，所以我们需要结合倒排表来获取相似度最高的问题，从而获得答案。"
   ]
  },
  {
   "cell_type": "markdown",
   "metadata": {},
   "source": [
    "#### 3.1 tf-idf + 余弦相似度\n",
    "我们可以直接基于计算出来的``tf-idf``向量，计算用户最新问题与库中存储的问题之间的相似度，从而选择相似度最高的问题的答案。这个方法的复杂度为``O(N)``， ``N``是库中问题的个数。"
   ]
  },
  {
   "cell_type": "code",
   "execution_count": 9,
   "metadata": {},
   "outputs": [
    {
     "name": "stdout",
     "output_type": "stream",
     "text": [
      "[3, 77739, 80413, 39743, 28215]\n",
      "['Houston, Texas' 'Umma' 'Sicily' 'all' 'Melbourne']\n"
     ]
    }
   ],
   "source": [
    "import queue as Q\n",
    "#优先级队列实现大顶堆Heap,每次输出都是相似度最大值\n",
    "que = Q.PriorityQueue()\n",
    "def cosineSimilarity(vec1,vec2):\n",
    "    #定义余弦相似度\n",
    "    return np.dot(vec1,vec2.T)/(np.sqrt(np.sum(vec1**2))*np.sqrt(np.sum(vec2**2)))\n",
    "\n",
    "def get_top_results_tfidf_noindex(query):\n",
    "    # TODO 需要编写\n",
    "    \"\"\"\n",
    "    给定用户输入的问题 query, 返回最有可能的TOP 5问题。这里面需要做到以下几点：\n",
    "    1. 对于用户的输入 query 首先做一系列的预处理(上面提到的方法)，然后再转换成tf-idf向量（利用上面的vectorizer)\n",
    "    2. 计算跟每个库里的问题之间的相似度\n",
    "    3. 找出相似度最高的top5问题的答案\n",
    "    \"\"\"\n",
    "    top = 5\n",
    "    query_tfidf = computeSentenceEach(query.lower(),vectorizer,word2id)\n",
    "    for i,vec in enumerate(X_tfidf):\n",
    "        result = cosineSimilarity(vec,query_tfidf)\n",
    "        #print(result)\n",
    "        que.put((-1 * result,i))\n",
    "    i = 0\n",
    "    \n",
    "    top_idxs = []  # top_idxs存放相似度最高的（存在qlist里的）问题的下标 \n",
    "                   # hint: 请使用 priority queue来找出top results. 思考为什么可以这么做？ \n",
    "    while(i < top and not que.empty()):\n",
    "        top_idxs.append(que.get()[1])\n",
    "        i += 1\n",
    "    print(top_idxs)\n",
    "    return np.array(alist)[top_idxs]  # 返回相似度最高的问题对应的答案，作为TOP5答案 \n",
    "results = get_top_results_tfidf_noindex('In what city and state did Beyonce  grow up')\n",
    "print(results)"
   ]
  },
  {
   "cell_type": "code",
   "execution_count": 10,
   "metadata": {},
   "outputs": [
    {
     "name": "stdout",
     "output_type": "stream",
     "text": [
      "[0, 698, 69414, 20430, 52305]\n",
      "['in the late 1990s' '2005' 'Columbia' 'Damo' '1988']\n",
      "[15375, 25462, 86427, 61650, 85636]\n",
      "['births and deaths' '518,000' 'red brocket deer' '6.945 million'\n",
      " '91.379.615']\n"
     ]
    }
   ],
   "source": [
    "# TODO: 编写几个测试用例，并输出结果\n",
    "print (get_top_results_tfidf_noindex(\"When did Beyonce start becoming popular\"))\n",
    "#GT:in the late 1990s\n",
    "print (get_top_results_tfidf_noindex(\"What counted for more of the population change\"))"
   ]
  },
  {
   "cell_type": "markdown",
   "metadata": {},
   "source": [
    "你会发现上述的程序很慢，没错！ 是因为循环了所有库里的问题。为了优化这个过程，我们需要使用一种数据结构叫做```倒排表```。 使用倒排表我们可以把单词和出现这个单词的文档做关键。 之后假如要搜索包含某一个单词的文档，即可以非常快速的找出这些文档。 在这个QA系统上，我们首先使用倒排表来快速查找包含至少一个单词的文档，然后再进行余弦相似度的计算，即可以大大减少```时间复杂度```。"
   ]
  },
  {
   "cell_type": "markdown",
   "metadata": {},
   "source": [
    "#### 3.2 倒排表的创建\n",
    "倒排表的创建其实很简单，最简单的方法就是循环所有的单词一遍，然后记录每一个单词所出现的文档，然后把这些文档的ID保存成list即可。我们可以定义一个类似于```hash_map```, 比如 ``inverted_index = {}``， 然后存放包含每一个关键词的文档出现在了什么位置，也就是，通过关键词的搜索首先来判断包含这些关键词的文档（比如出现至少一个），然后对于candidates问题做相似度比较。"
   ]
  },
  {
   "cell_type": "code",
   "execution_count": 11,
   "metadata": {},
   "outputs": [],
   "source": [
    "# TODO 请创建倒排表\n",
    "word_doc = dict()\n",
    "#key:word,value:包含该词的句子序号的列表\n",
    "for i,q in enumerate(qlist):\n",
    "    words = q.strip().split(' ')\n",
    "    for w in set(words):\n",
    "        if w not in word_doc:\n",
    "            #没在word_doc中的，建立一个空list\n",
    "            word_doc[w] = set([])    \n",
    "        word_doc[w] = word_doc[w] | set([i])\n",
    "inverted_idx = word_doc  # 定一个一个简单的倒排表，是一个map结构。 循环所有qlist一遍就可以"
   ]
  },
  {
   "cell_type": "markdown",
   "metadata": {},
   "source": [
    "#### 3.3 语义相似度\n",
    "这里有一个问题还需要解决，就是语义的相似度。可以这么理解： 两个单词比如car, auto这两个单词长得不一样，但从语义上还是类似的。如果只是使用倒排表我们不能考虑到这些单词之间的相似度，这就导致如果我们搜索句子里包含了``car``, 则我们没法获取到包含auto的所有的文档。所以我们希望把这些信息也存下来。那这个问题如何解决呢？ 其实也不难，可以提前构建好相似度的关系，比如对于``car``这个单词，一开始就找好跟它意思上比较类似的单词比如top 10，这些都标记为``related words``。所以最后我们就可以创建一个保存``related words``的一个``map``. 比如调用``related_words['car']``即可以调取出跟``car``意思上相近的TOP 10的单词。 \n",
    "\n",
    "那这个``related_words``又如何构建呢？ 在这里我们仍然使用``Glove``向量，然后计算一下俩俩的相似度（余弦相似度）。之后对于每一个词，存储跟它最相近的top 10单词，最终结果保存在``related_words``里面。 这个计算需要发生在离线，因为计算量很大，复杂度为``O(V*V)``， V是单词的总数。 \n",
    "\n",
    "这个计算过程的代码请放在``related.py``的文件里，然后结果保存在``related_words.txt``里。 我们在使用的时候直接从文件里读取就可以了，不用再重复计算。所以在此notebook里我们就直接读取已经计算好的结果。 作业提交时需要提交``related.py``和``related_words.txt``文件，这样在使用的时候就不再需要做这方面的计算了。"
   ]
  },
  {
   "cell_type": "code",
   "execution_count": 18,
   "metadata": {},
   "outputs": [
    {
     "ename": "FileNotFoundError",
     "evalue": "[Errno 2] No such file or directory: 'related_words.txt'",
     "output_type": "error",
     "traceback": [
      "\u001b[1;31m---------------------------------------------------------------------------\u001b[0m",
      "\u001b[1;31mFileNotFoundError\u001b[0m                         Traceback (most recent call last)",
      "\u001b[1;32m<ipython-input-18-f660778ee1fd>\u001b[0m in \u001b[0;36m<module>\u001b[1;34m()\u001b[0m\n\u001b[0;32m     11\u001b[0m     \u001b[1;32mreturn\u001b[0m \u001b[0mrelated_words\u001b[0m\u001b[1;33m\u001b[0m\u001b[0m\n\u001b[0;32m     12\u001b[0m \u001b[1;33m\u001b[0m\u001b[0m\n\u001b[1;32m---> 13\u001b[1;33m \u001b[0mrelated_words\u001b[0m \u001b[1;33m=\u001b[0m \u001b[0mget_related_words\u001b[0m\u001b[1;33m(\u001b[0m\u001b[1;34m'related_words.txt'\u001b[0m\u001b[1;33m)\u001b[0m \u001b[1;31m# 直接放在文件夹的根目录下，不要修改此路径。\u001b[0m\u001b[1;33m\u001b[0m\u001b[0m\n\u001b[0m",
      "\u001b[1;32m<ipython-input-18-f660778ee1fd>\u001b[0m in \u001b[0;36mget_related_words\u001b[1;34m(filename)\u001b[0m\n\u001b[0;32m      4\u001b[0m     \u001b[1;31m#文件格式w1 w2 w3..w11,其中w1为原词，w2-w11为w1的相似词\u001b[0m\u001b[1;33m\u001b[0m\u001b[1;33m\u001b[0m\u001b[0m\n\u001b[0;32m      5\u001b[0m     \u001b[0mrelated_words\u001b[0m \u001b[1;33m=\u001b[0m \u001b[1;33m{\u001b[0m\u001b[1;33m}\u001b[0m\u001b[1;33m\u001b[0m\u001b[0m\n\u001b[1;32m----> 6\u001b[1;33m     \u001b[1;32mwith\u001b[0m \u001b[0mcodecs\u001b[0m\u001b[1;33m.\u001b[0m\u001b[0mopen\u001b[0m\u001b[1;33m(\u001b[0m\u001b[0mfilename\u001b[0m\u001b[1;33m,\u001b[0m\u001b[1;34m'r'\u001b[0m\u001b[1;33m,\u001b[0m\u001b[1;34m'utf8'\u001b[0m\u001b[1;33m)\u001b[0m \u001b[1;32mas\u001b[0m \u001b[0mFin\u001b[0m\u001b[1;33m:\u001b[0m\u001b[1;33m\u001b[0m\u001b[0m\n\u001b[0m\u001b[0;32m      7\u001b[0m         \u001b[0mlines\u001b[0m \u001b[1;33m=\u001b[0m \u001b[0mFin\u001b[0m\u001b[1;33m.\u001b[0m\u001b[0mreadlines\u001b[0m\u001b[1;33m(\u001b[0m\u001b[1;33m)\u001b[0m\u001b[1;33m\u001b[0m\u001b[0m\n\u001b[0;32m      8\u001b[0m     \u001b[1;32mfor\u001b[0m \u001b[0mline\u001b[0m \u001b[1;32min\u001b[0m \u001b[0mlines\u001b[0m\u001b[1;33m:\u001b[0m\u001b[1;33m\u001b[0m\u001b[0m\n",
      "\u001b[1;32mD:\\soft\\anaconda\\lib\\codecs.py\u001b[0m in \u001b[0;36mopen\u001b[1;34m(filename, mode, encoding, errors, buffering)\u001b[0m\n\u001b[0;32m    895\u001b[0m         \u001b[1;31m# Force opening of the file in binary mode\u001b[0m\u001b[1;33m\u001b[0m\u001b[1;33m\u001b[0m\u001b[0m\n\u001b[0;32m    896\u001b[0m         \u001b[0mmode\u001b[0m \u001b[1;33m=\u001b[0m \u001b[0mmode\u001b[0m \u001b[1;33m+\u001b[0m \u001b[1;34m'b'\u001b[0m\u001b[1;33m\u001b[0m\u001b[0m\n\u001b[1;32m--> 897\u001b[1;33m     \u001b[0mfile\u001b[0m \u001b[1;33m=\u001b[0m \u001b[0mbuiltins\u001b[0m\u001b[1;33m.\u001b[0m\u001b[0mopen\u001b[0m\u001b[1;33m(\u001b[0m\u001b[0mfilename\u001b[0m\u001b[1;33m,\u001b[0m \u001b[0mmode\u001b[0m\u001b[1;33m,\u001b[0m \u001b[0mbuffering\u001b[0m\u001b[1;33m)\u001b[0m\u001b[1;33m\u001b[0m\u001b[0m\n\u001b[0m\u001b[0;32m    898\u001b[0m     \u001b[1;32mif\u001b[0m \u001b[0mencoding\u001b[0m \u001b[1;32mis\u001b[0m \u001b[1;32mNone\u001b[0m\u001b[1;33m:\u001b[0m\u001b[1;33m\u001b[0m\u001b[0m\n\u001b[0;32m    899\u001b[0m         \u001b[1;32mreturn\u001b[0m \u001b[0mfile\u001b[0m\u001b[1;33m\u001b[0m\u001b[0m\n",
      "\u001b[1;31mFileNotFoundError\u001b[0m: [Errno 2] No such file or directory: 'related_words.txt'"
     ]
    }
   ],
   "source": [
    "import codecs\n",
    "def get_related_words(filename):\n",
    "    #从预处理的相似词的文件加载相似词信息\n",
    "    #文件格式w1 w2 w3..w11,其中w1为原词，w2-w11为w1的相似词\n",
    "    related_words = {}\n",
    "    with codecs.open(filename,'r','utf8') as Fin:\n",
    "        lines = Fin.readlines()\n",
    "    for line in lines:\n",
    "        words = line.strip().split(' ')\n",
    "        related_words[words[0]] = words[1:]\n",
    "    return related_words\n",
    "\n",
    "related_words = get_related_words('related_words.txt') # 直接放在文件夹的根目录下，不要修改此路径。"
   ]
  },
  {
   "cell_type": "code",
   "execution_count": null,
   "metadata": {
    "scrolled": true
   },
   "outputs": [],
   "source": [
    "\n"
   ]
  },
  {
   "cell_type": "markdown",
   "metadata": {},
   "source": [
    "#### 3.4 利用倒排表搜索\n",
    "在这里，我们使用倒排表先获得一批候选问题，然后再通过余弦相似度做精准匹配，这样一来可以节省大量的时间。搜索过程分成两步：\n",
    "\n",
    "- 使用倒排表把候选问题全部提取出来。首先，对输入的新问题做分词等必要的预处理工作，然后对于句子里的每一个单词，从``related_words``里提取出跟它意思相近的top 10单词， 然后根据这些top词从倒排表里提取相关的文档，把所有的文档返回。 这部分可以放在下面的函数当中，也可以放在外部。\n",
    "- 然后针对于这些文档做余弦相似度的计算，最后排序并选出最好的答案。\n",
    "\n",
    "可以适当定义自定义函数，使得减少重复性代码"
   ]
  },
  {
   "cell_type": "code",
   "execution_count": null,
   "metadata": {},
   "outputs": [],
   "source": [
    "import queue as Q\n",
    "def cosineSimilarity(vec1,vec2):\n",
    "    #定义余弦相似度\n",
    "    return np.dot(vec1,vec2.T)/(np.sqrt(np.sum(vec1**2))*np.sqrt(np.sum(vec2**2)))\n",
    "def getCandidate(query):\n",
    "    #根据查询句子中每个词所在的序号列表，求交集\n",
    "    searched = set()\n",
    "    for w in query.strip().split(' '):\n",
    "        if w not in word2id or w not in inverted_idx:\n",
    "            continue\n",
    "        #搜索原词所在的序号列表\n",
    "        if len(searched) == 0:\n",
    "            searched = set(inverted_idx[w])\n",
    "        else:\n",
    "            searched = searched & set(inverted_idx[w])\n",
    "        #搜索相似词所在的列表\n",
    "        if w in related_words:\n",
    "            for similar in related_words[w]:\n",
    "                searched = searched & set(inverted_idx[similar])\n",
    "    return searched\n",
    "\n",
    "def get_top_results_tfidf(query):\n",
    "    \"\"\"\n",
    "    给定用户输入的问题 query, 返回最有可能的TOP 5问题。这里面需要做到以下几点：\n",
    "    1. 利用倒排表来筛选 candidate （需要使用related_words). \n",
    "    2. 对于候选文档，计算跟输入问题之间的相似度\n",
    "    3. 找出相似度最高的top5问题的答案\n",
    "    \"\"\"\n",
    "    top = 5\n",
    "    query_tfidf = computeSentenceEach(query,vectorizer,word2id)\n",
    "    results = Q.PriorityQueue()\n",
    "    searched = getCandidate(query)\n",
    "    #print(len(searched))\n",
    "    for candidate in searched:\n",
    "        #计算candidate与query的余弦相似度\n",
    "        result = cosineSimilarity(query_tfidf,X_tfidf[candidate])\n",
    "        #优先级队列中保存相似度和对应的candidate序号\n",
    "        #-1保证降序\n",
    "        results.put((-1 * result,candidate))\n",
    "    i = 0\n",
    "    top_idxs = []  # top_idxs存放相似度最高的（存在qlist里的）问题的下表 \n",
    "                   # hint: 利用priority queue来找出top results. 思考为什么可以这么做？ \n",
    "    while i < top and not results.empty():\n",
    "        top_idxs.append(results.get()[1])\n",
    "        i += 1\n",
    "    return np.array(alist)[top_idxs]  # 返回相似度最高的问题对应的答案，作为TOP5答案\n",
    "\n",
    "\n",
    "# In[29]:\n",
    "\n",
    "\n",
    "def get_top_results_w2v(query):\n",
    "    \"\"\"\n",
    "    给定用户输入的问题 query, 返回最有可能的TOP 5问题。这里面需要做到以下几点：\n",
    "    1. 利用倒排表来筛选 candidate （需要使用related_words). \n",
    "    2. 对于候选文档，计算跟输入问题之间的相似度\n",
    "    3. 找出相似度最高的top5问题的答案\n",
    "    \"\"\"\n",
    "    #embedding用glove\n",
    "    top = 5\n",
    "    query_emb = computeGloveSentenceEach(query,emb)\n",
    "    results = Q.PriorityQueue()\n",
    "    searched = getCandidate(query)\n",
    "    for candidate in searched:\n",
    "        result = cosineSimilarity(query_emb,X_w2v[candidate])\n",
    "        results.put((-1 * result,candidate))\n",
    "    top_idxs = []  # top_idxs存放相似度最高的（存在qlist里的）问题的下表 \n",
    "                   # hint: 利用priority queue来找出top results. 思考为什么可以这么做？ \n",
    "    i = 0\n",
    "    while i < top and not results.empty():\n",
    "        top_idxs.append(results.get()[1])\n",
    "        i += 1\n",
    "    return np.array(alist)[top_idxs]  # 返回相似度最高的问题对应的答案，作为TOP5答案\n",
    "\n",
    "\n",
    "# In[31]:\n",
    "\n",
    "\n",
    "def get_top_results_bert(query):\n",
    "    \"\"\"\n",
    "    给定用户输入的问题 query, 返回最有可能的TOP 5问题。这里面需要做到以下几点：\n",
    "    1. 利用倒排表来筛选 candidate （需要使用related_words). \n",
    "    2. 对于候选文档，计算跟输入问题之间的相似度\n",
    "    3. 找出相似度最高的top5问题的答案\n",
    "    \"\"\"\n",
    "    #embedding用Bert embedding\n",
    "    top = 5\n",
    "    query_emb = np.sum(bert_embedding([query],'sum')[0][1],axis = 0) / len(query.strip().split())\n",
    "    results = Q.PriorityQueue()\n",
    "    searched = getCandidate(query)\n",
    "    for candidate in searched:\n",
    "        result = cosineSimilarity(query_emb,X_bert[candidate])\n",
    "        #print(result)\n",
    "        results.put((-1 * result,candidate))\n",
    "    top_idxs = []  # top_idxs存放相似度最高的（存在qlist里的）问题的下表 \n",
    "                   # hint: 利用priority queue来找出top results. 思考为什么可以这么做？ \n",
    "    i = 0\n",
    "    while i < top and not results.empty():\n",
    "        top_idxs.append(results.get()[1])\n",
    "        i += 1\n",
    "    \n",
    "    return np.array(alist)[top_idxs]  # 返回相似度最高的问题对应的答案，作为TOP5答案\n",
    "\n",
    "\n",
    "# In[32]:\n",
    "\n",
    "\n",
    "# TODO: 编写几个测试用例，并输出结果\n",
    "\n",
    "test_query1 = \"When did Beyonce start becoming popular\"\n",
    "#result:in the late 1990s\n",
    "test_query2 = \"What counted for more of the population change\"\n",
    "#result:births and deaths\n",
    "\n",
    "print (get_top_results_tfidf(test_query1))\n",
    "print (get_top_results_w2v(test_query1))\n",
    "print (get_top_results_bert(test_query1))\n",
    "\n",
    "print (get_top_results_tfidf(test_query2))\n",
    "print (get_top_results_w2v(test_query2))\n",
    "print (get_top_results_bert(test_query2))\n"
   ]
  },
  {
   "cell_type": "code",
   "execution_count": null,
   "metadata": {},
   "outputs": [],
   "source": [
    "# TODO: 编写几个测试用例，并输出结果\n",
    "\n",
    "# test_query1 = \"\"\n",
    "# test_query2 = \"\"\n",
    "\n",
    "print (get_top_results_tfidf(test_query1))\n",
    "print (get_top_results_w2v(test_query1))\n",
    "print (get_top_results_bert(test_query1))\n",
    "\n",
    "print (get_top_results_tfidf(test_query2))\n",
    "print (get_top_results_w2v(test_query2))\n",
    "print (get_top_results_bert(test_query2))"
   ]
  },
  {
   "cell_type": "markdown",
   "metadata": {},
   "source": [
    "### 4. 拼写纠错\n",
    "其实用户在输入问题的时候，不能期待他一定会输入正确，有可能输入的单词的拼写错误的。这个时候我们需要后台及时捕获拼写错误，并进行纠正，然后再通过修正之后的结果再跟库里的问题做匹配。这里我们需要实现一个简单的拼写纠错的代码，然后自动去修复错误的单词。\n",
    "\n",
    "这里使用的拼写纠错方法是课程里讲过的方法，就是使用noisy channel model。 我们回想一下它的表示：\n",
    "\n",
    "$c^* = \\text{argmax}_{c\\in candidates} ~~p(c|s) = \\text{argmax}_{c\\in candidates} ~~p(s|c)p(c)$\n",
    "\n",
    "这里的```candidates```指的是针对于错误的单词的候选集，这部分我们可以假定是通过edit_distance来获取的（比如生成跟当前的词距离为1/2的所有的valid 单词。 valid单词可以定义为存在词典里的单词。 ```c```代表的是正确的单词， ```s```代表的是用户错误拼写的单词。 所以我们的目的是要寻找出在``candidates``里让上述概率最大的正确写法``c``。 \n",
    "\n",
    "$p(s|c)$，这个概率我们可以通过历史数据来获得，也就是对于一个正确的单词$c$, 有百分之多少人把它写成了错误的形式1，形式2...  这部分的数据可以从``spell_errors.txt``里面找得到。但在这个文件里，我们并没有标记这个概率，所以可以使用uniform probability来表示。这个也叫做channel probability。\n",
    "\n",
    "$p(c)$，这一项代表的是语言模型，也就是假如我们把错误的$s$，改造成了$c$， 把它加入到当前的语句之后有多通顺？在本次项目里我们使用bigram来评估这个概率。 举个例子： 假如有两个候选 $c_1, c_2$， 然后我们希望分别计算出这个语言模型的概率。 由于我们使用的是``bigram``， 我们需要计算出两个概率，分别是当前词前面和后面词的``bigram``概率。 用一个例子来表示：\n",
    "\n",
    "给定： ``We are go to school tomorrow``， 对于这句话我们希望把中间的``go``替换成正确的形式，假如候选集里有个，分别是``going``, ``went``, 这时候我们分别对这俩计算如下的概率：\n",
    "$p(going|are)p(to|going)$和 $p(went|are)p(to|went)$， 然后把这个概率当做是$p(c)$的概率。 然后再跟``channel probability``结合给出最终的概率大小。\n",
    "\n",
    "那这里的$p(are|going)$这些bigram概率又如何计算呢？答案是训练一个语言模型！ 但训练一个语言模型需要一些文本数据，这个数据怎么找？ 在这次项目作业里我们会用到``nltk``自带的``reuters``的文本类数据来训练一个语言模型。当然，如果你有资源你也可以尝试其他更大的数据。最终目的就是计算出``bigram``概率。 "
   ]
  },
  {
   "cell_type": "markdown",
   "metadata": {},
   "source": [
    "#### 4.1 训练一个语言模型\n",
    "在这里，我们使用``nltk``自带的``reuters``数据来训练一个语言模型。 使用``add-one smoothing``"
   ]
  },
  {
   "cell_type": "code",
   "execution_count": null,
   "metadata": {},
   "outputs": [],
   "source": [
    "import nltk\n",
    "nltk.download('reuters')\n",
    "from nltk.corpus import reuters\n",
    "import numpy as np\n",
    "import codecs\n",
    "\n",
    "\n",
    "# 读取语料库的数据\n",
    "categories = reuters.categories()\n",
    "corpus = reuters.sents(categories=categories)\n",
    "#print(corpus[0])\n",
    "# 循环所有的语料库并构建bigram probability. bigram[word1][word2]: 在word1出现的情况下下一个是word2的概率。\n",
    "new_corpus = []\n",
    "for sent in corpus:\n",
    "    #句子前后加入<s>,</s>表示开始和结束\n",
    "    new_corpus.append(['<s> '] + sent + [' </s>'])\n",
    "print(new_corpus[0])\n",
    "word2id = dict()\n",
    "id2word = dict()\n",
    "for sent in new_corpus:\n",
    "    for w in sent:\n",
    "        w = w.lower()\n",
    "        if w in word2id:\n",
    "            continue\n",
    "        id2word[len(word2id)] = w\n",
    "        word2id[w] = len(word2id)\n",
    "vocab_size = len(word2id)\n",
    "count_uni = np.zeros(vocab_size)\n",
    "count_bi = np.zeros((vocab_size,vocab_size))\n",
    "#writeVocab(word2id,\"lm_vocab.txt\")\n",
    "for sent in new_corpus:\n",
    "    for i,w in enumerate(sent):\n",
    "        w = w.lower()\n",
    "        count_uni[word2id[w]] += 1\n",
    "        if i < len(sent) - 1:\n",
    "            count_bi[word2id[w],word2id[sent[i + 1].lower()]] += 1\n",
    "print(\"unigram done\")\n",
    "bigram = np.zeros((vocab_size,vocab_size))\n",
    "#计算bigram LM，有bigram统计值的加一除以|vocab|+uni统计值，没有统计值,\n",
    "#1 除以 |vocab|+uni统计值\n",
    "for i in range(vocab_size):\n",
    "    for j in range(vocab_size):\n",
    "        if count_bi[i,j] == 0:\n",
    "            bigram[i,j] = 1.0 / (vocab_size + count_uni[i])\n",
    "        else:\n",
    "            bigram[i,j] = (1.0 + count_bi[i,j]) / (vocab_size + count_uni[i])\n",
    "def checkLM(word1,word2):\n",
    "    if word1.lower() in word2id and word2.lower() in word2id:\n",
    "        return bigram[word2id[word1.lower()],word2id[word2.lower()]]\n",
    "    else:\n",
    "        return 0.0\n",
    "print(checkLM('I','like'))\n"
   ]
  },
  {
   "cell_type": "markdown",
   "metadata": {},
   "source": [
    "#### 4.2 构建Channel Probs\n",
    "基于``spell_errors.txt``文件构建``channel probability``, 其中$channel[c][s]$表示正确的单词$c$被写错成$s$的概率。 "
   ]
  },
  {
   "cell_type": "code",
   "execution_count": null,
   "metadata": {},
   "outputs": [],
   "source": [
    "channel = {}\n",
    "#读取文件，格式为w1:w2,w3..\n",
    "#w1为正确词，w2,w3...为错误词\n",
    "#没有给出不同w2-wn的概率，暂时按等概率处理\n",
    "for line in open('spell-errors.txt'):\n",
    "    # TODO\n",
    "    (correct,error) = line.strip().split(':')\n",
    "    errors = error.split(',')\n",
    "    errorProb = dict()\n",
    "    for e in errors:\n",
    "        errorProb[e.strip()] = 1.0 / len(errors)\n",
    "    channel[correct.strip()] = errorProb"
   ]
  },
  {
   "cell_type": "markdown",
   "metadata": {},
   "source": [
    "#### 4.3 根据错别字生成所有候选集合\n",
    "给定一个错误的单词，首先生成跟这个单词距离为1或者2的所有的候选集合。 这部分的代码我们在课程上也讲过，可以参考一下。 "
   ]
  },
  {
   "cell_type": "code",
   "execution_count": 19,
   "metadata": {},
   "outputs": [
    {
     "name": "stdout",
     "output_type": "stream",
     "text": [
      "{'start', 'strait'}\n"
     ]
    }
   ],
   "source": [
    "def filter(words):\n",
    "    #将不在词表中的词过滤\n",
    "    new_words = []\n",
    "    for w in words:\n",
    "        if w in word2id:\n",
    "            new_words.append(w)\n",
    "    return set(new_words)\n",
    "\n",
    "def generate_candidates1(word):\n",
    "    #生成DTW距离为1的词，\n",
    "    #对于英语来说，插入，替换，删除26个字母\n",
    "    chars = 'abcdefghijklmnopqrstuvwxyz'\n",
    "    words = set([])\n",
    "    #insert 1\n",
    "    words = set(word[0:i] + chars[j] + word[i:] for i in range(len(word)) for j in range(len(chars)))\n",
    "    #sub 1\n",
    "    words = words | set(word[0:i] + chars[j] + word[i+1:] for i in range(len(word)) for j in range(len(chars)))\n",
    "    #delete 1\n",
    "    words = words | set(word[0:i] + word[i + 1:] for i in range(len(chars)))\n",
    "    #交换相邻\n",
    "    #print(set(word[0:i - 1] + word[i] + word[i - 1] + word[i + 1:] for i in range(1,len(word))))\n",
    "    words = words | set(word[0:i - 1] + word[i] + word[i - 1] + word[i + 1:] for i in range(1,len(word)))\n",
    "    #将不在词表中的词去掉\n",
    "    words = filter(words)\n",
    "    #去掉word本身\n",
    "    if word in words:\n",
    "        words.remove(word)\n",
    "    return words\n",
    "\n",
    "def generate_candidates(word):\n",
    "    # 基于拼写错误的单词，生成跟它的编辑距离为1或者2的单词，并通过词典库的过滤。\n",
    "    # 只留写法上正确的单词。 \n",
    "    words = generate_candidates1(word)\n",
    "    words2 = set([])\n",
    "    for word in words:\n",
    "        #将距离为1词，再分别计算距离为1的词，\n",
    "        #作为距离为2的词候选\n",
    "        words2 = generate_candidates1(word)\n",
    "    #过滤掉不在词表中的词\n",
    "    words2 = filter(words)\n",
    "    #距离为1，2的词合并列表\n",
    "    words = words  | words2\n",
    "    return words\n",
    "words = generate_candidates('strat')\n",
    "print(words)"
   ]
  },
  {
   "cell_type": "markdown",
   "metadata": {},
   "source": [
    "#### 4.4 给定一个输入，如果有错误需要纠正\n",
    "\n",
    "给定一个输入``query``, 如果这里有些单词是拼错的，就需要把它纠正过来。这部分的实现可以简单一点： 对于``query``分词，然后把分词后的每一个单词在词库里面搜一下，假设搜不到的话可以认为是拼写错误的! 人如果拼写错误了再通过``channel``和``bigram``来计算最适合的候选。"
   ]
  },
  {
   "cell_type": "code",
   "execution_count": null,
   "metadata": {},
   "outputs": [],
   "source": [
    "import numpy as np\n",
    "import queue as Q\n",
    "def word_corrector(word,context):\n",
    "    word = word.lower()\n",
    "    candidate = generate_candidates(word)\n",
    "    if len(candidate) == 0:\n",
    "        return word\n",
    "    correctors = Q.PriorityQueue()\n",
    "    for w in candidate:\n",
    "        if w in channel and word in channel[w] and w in word2id and context[0].lower() in word2id and context[1].lower() in word2id:\n",
    "            probility = np.log(channel[w][word] + 0.0001) +             np.log(bigram[word2id[context[0].lower()],word2id[w]]) +             np.log(bigram[word2id[context[1].lower()],word2id[w]])\n",
    "            correctors.put((-1 * probility,w))\n",
    "    if correctors.empty():\n",
    "        return word\n",
    "    return correctors.get()[1]\n",
    "word = word_corrector('strat',('to','in'))\n",
    "print(word)\n",
    "def spell_corrector(line):\n",
    "    # 1. 首先做分词，然后把``line``表示成``tokens``\n",
    "    # 2. 循环每一token, 然后判断是否存在词库里。如果不存在就意味着是拼写错误的，需要修正。 \n",
    "    #    修正的过程就使用上述提到的``noisy channel model``, 然后从而找出最好的修正之后的结果。 \n",
    "    new_words = []\n",
    "    words = ['<s>'] + line.strip().lower().split(' ') + ['</s>']\n",
    "    for i,word in enumerate(words):\n",
    "        if i == len(words) - 1:\n",
    "            break\n",
    "        word = word.lower()\n",
    "        if word not in word2id:\n",
    "            #认为错误，需要修正，句子前后加了<s>,</s>\n",
    "            #不在词表中词,肯定位于[1,len - 2]之间\n",
    "            new_words.append(word_corrector(word,(words[i - 1].lower(),words[i + 1].lower())))\n",
    "        else:\n",
    "            new_words.append(word)\n",
    "    newline = ' '.join(new_words[1:])\n",
    "    return newline   # 修正之后的结果，假如用户输入没有问题，那这时候``newline = line``\n",
    "sentence = spell_corrector('When did Beyonce strat becoming popular')\n",
    "print(sentence)\n",
    "\n"
   ]
  },
  {
   "cell_type": "markdown",
   "metadata": {},
   "source": [
    "#### 4.5 基于拼写纠错算法，实现用户输入自动矫正\n",
    "首先有了用户的输入``query``， 然后做必要的处理把句子转换成tokens的形状，然后对于每一个token比较是否是valid, 如果不是的话就进行下面的修正过程。 "
   ]
  },
  {
   "cell_type": "code",
   "execution_count": null,
   "metadata": {},
   "outputs": [],
   "source": [
    "test_query1 = \"\"  # 拼写错误的\n",
    "test_query2 = \"\"  # 拼写错误的\n",
    "\n",
    "test_query1 = spell_corector(test_query1)\n",
    "test_query2 = spell_corector(test_query2)\n",
    "\n",
    "print (get_top_results_tfidf(test_query1))\n",
    "print (get_top_results_w2v(test_query1))\n",
    "print (get_top_results_bert(test_query1))\n",
    "\n",
    "print (get_top_results_tfidf(test_query2))\n",
    "print (get_top_results_w2v(test_query2))\n",
    "print (get_top_results_bert(test_query2))"
   ]
  },
  {
   "cell_type": "markdown",
   "metadata": {},
   "source": [
    "### 附录 \n",
    "在本次项目中我们实现了一个简易的问答系统。基于这个项目，我们其实可以有很多方面的延伸。\n",
    "- 在这里，我们使用文本向量之间的余弦相似度作为了一个标准。但实际上，我们也可以基于基于包含关键词的情况来给一定的权重。比如一个单词跟related word有多相似，越相似就意味着相似度更高，权重也会更大。 \n",
    "- 另外 ，除了根据词向量去寻找``related words``也可以提前定义好同义词库，但这个需要大量的人力成本。 \n",
    "- 在这里，我们直接返回了问题的答案。 但在理想情况下，我们还是希望通过问题的种类来返回最合适的答案。 比如一个用户问：“明天北京的天气是多少？”， 那这个问题的答案其实是一个具体的温度（其实也叫做实体），所以需要在答案的基础上做进一步的抽取。这项技术其实是跟信息抽取相关的。 \n",
    "- 对于词向量，我们只是使用了``average pooling``， 除了average pooling，我们也还有其他的经典的方法直接去学出一个句子的向量。\n",
    "- 短文的相似度分析一直是业界和学术界一个具有挑战性的问题。在这里我们使用尽可能多的同义词来提升系统的性能。但除了这种简单的方法，可以尝试其他的方法比如WMD，或者适当结合parsing相关的知识点。 "
   ]
  },
  {
   "cell_type": "markdown",
   "metadata": {
    "collapsed": true
   },
   "source": [
    "好了，祝你好运！ "
   ]
  }
 ],
 "metadata": {
  "kernelspec": {
   "display_name": "Python 3",
   "language": "python",
   "name": "python3"
  },
  "language_info": {
   "codemirror_mode": {
    "name": "ipython",
    "version": 3
   },
   "file_extension": ".py",
   "mimetype": "text/x-python",
   "name": "python",
   "nbconvert_exporter": "python",
   "pygments_lexer": "ipython3",
   "version": "3.6.5"
  }
 },
 "nbformat": 4,
 "nbformat_minor": 2
}
